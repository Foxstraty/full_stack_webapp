{
 "cells": [
  {
   "cell_type": "code",
   "execution_count": 1,
   "metadata": {},
   "outputs": [],
   "source": [
    "import sqlite3\n",
    "import tkinter as tk\n",
    "from tkinter import messagebox\n",
    "from tkinter import ttk\n",
    "\n",
    "conn = sqlite3.connect('students.db')\n",
    "\n",
    "def join_tables():\n",
    "    table1 = table1_dropdown.get()\n",
    "    table2 = table2_dropdown.get()\n",
    "    cursor = conn.cursor()\n",
    "\n",
    "    if table1 == \"courses\" and table2 == \"instructors\":\n",
    "        cursor.execute(f\"SELECT {table1}.*, {table2}.email, {table2}.office FROM {table1} LEFT JOIN {table2} ON {table1}.instructor = {table2}.name\")\n",
    "    elif table1 == \"courses\" and table2 == \"enrollments\":\n",
    "        cursor.execute(f\"SELECT {table1}.*, {table2}.student_id AS {table2}_student_id, {table2}.grade AS {table2}_grade FROM {table1} LEFT JOIN {table2} ON {table1}.id = {table2}.course_id\")\n",
    "    elif table1 == \"students\" and table2 == \"enrollments\":\n",
    "        cursor.execute(f\"SELECT {table1}.*, {table2}.course_id AS {table2}_course_id, {table2}.grade AS {table2}_grade FROM {table1} LEFT JOIN {table2} ON {table1}.id = {table2}.student_id\")\n",
    "    elif table1 == \"students\" and table2 == \"instructors\":\n",
    "        cursor.execute(f\"SELECT {table1}.*, {table2}.email, {table2}.office FROM {table1} LEFT JOIN {table2} ON {table1}.id = {table2}.id\")\n",
    "    else:\n",
    "        messagebox.showerror(\"Invalid Tables\")\n",
    "        return\n",
    "\n",
    "    columns = [description[0] for description in cursor.description]\n",
    "    rows = cursor.fetchall()\n",
    "\n",
    "    table_view = ttk.Treeview(window, columns=columns, show='headings')\n",
    "    table_view.grid(row=2, column=0, columnspan=3, padx=5, pady=5)\n",
    "\n",
    "    # Insert columns in the table\n",
    "    for col in columns:\n",
    "        table_view.heading(col, text=col)\n",
    "\n",
    "    # Insert rows in the table\n",
    "    for row in rows:\n",
    "        table_view.insert(\"\", tk.END, values=row)\n",
    "\n",
    "window = tk.Tk()\n",
    "window.title(\"MySQL Left Join\")\n",
    "\n",
    "tables1 = [\"students\", \"courses\"]\n",
    "tables2 = [\"instructors\", \"enrollments\"]\n",
    "table1_dropdown = tk.StringVar(window)\n",
    "table1_dropdown.set(tables1[0])\n",
    "table2_dropdown = tk.StringVar(window)\n",
    "table2_dropdown.set(tables2[1])\n",
    "table1_menu = tk.OptionMenu(window, table1_dropdown, *tables1)\n",
    "table2_menu = tk.OptionMenu(window, table2_dropdown, *tables2)\n",
    "table1_menu.grid(row=0, column=0, padx=5, pady=5)\n",
    "table2_menu.grid(row=0, column=1, padx=5, pady=5)\n",
    "join_button = tk.Button(window, text=\"Join Tables\", command=join_tables)\n",
    "join_button.grid(row=0, column=2, padx=5, pady=5)\n",
    "\n",
    "window.mainloop()"
   ]
  },
  {
   "cell_type": "code",
   "execution_count": null,
   "metadata": {},
   "outputs": [],
   "source": []
  }
 ],
 "metadata": {
  "kernelspec": {
   "display_name": "minimal_ds",
   "language": "python",
   "name": "python3"
  },
  "language_info": {
   "codemirror_mode": {
    "name": "ipython",
    "version": 3
   },
   "file_extension": ".py",
   "mimetype": "text/x-python",
   "name": "python",
   "nbconvert_exporter": "python",
   "pygments_lexer": "ipython3",
   "version": "3.11.0"
  },
  "orig_nbformat": 4
 },
 "nbformat": 4,
 "nbformat_minor": 2
}
